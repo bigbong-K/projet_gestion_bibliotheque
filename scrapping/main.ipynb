{
 "cells": [
  {
   "cell_type": "markdown",
   "id": "223054b5",
   "metadata": {},
   "source": [
    "<h3><b>Importation des librairies</b></h1>"
   ]
  },
  {
   "cell_type": "code",
   "execution_count": 15,
   "id": "38187820",
   "metadata": {},
   "outputs": [],
   "source": [
    "import numpy as np\n",
    "import pandas as pd\n",
    "import requests\n",
    "from bs4 import BeautifulSoup as soup"
   ]
  },
  {
   "cell_type": "code",
   "execution_count": 14,
   "id": "e336cf21",
   "metadata": {},
   "outputs": [
    {
     "data": {
      "text/plain": [
       "200"
      ]
     },
     "execution_count": 14,
     "metadata": {},
     "output_type": "execute_result"
    }
   ],
   "source": [
    "url = \"https://books.toscrape.com/catalogue/category/books_1/index.html\"\n",
    "\n",
    "reponse = requests.get(url=url)\n",
    "\n",
    "reponse.status_code"
   ]
  },
  {
   "cell_type": "code",
   "execution_count": null,
   "id": "f807dfc0",
   "metadata": {},
   "outputs": [],
   "source": [
    "def get_book_themes():\n",
    "    url = \"https://books.toscrape.com/catalogue/category/books_1/index.html\"\n",
    "    reponse = requests.get(url=url)\n",
    "    if reponse.status_code == 200:\n",
    "        data_str = reponse.content\n",
    "        data_html = soup(data_str, \"html.parser\")\n",
    "        data = [theme.get_text().strip() for theme in data_html.find_all(\"div\", attrs={\"class\":\"side_categories\"})[0].find_all(\"li\")[1:]]\n",
    "        \n",
    "        return data\n",
    "    return None\n"
   ]
  },
  {
   "cell_type": "code",
   "execution_count": 41,
   "id": "eb5547b2",
   "metadata": {},
   "outputs": [],
   "source": [
    "def get_book_link_themes(url:str):\n",
    "    reponse = requests.get(url=url)\n",
    "    if reponse.status_code == 200:\n",
    "        data_str = reponse.content\n",
    "        data_html = soup(data_str, \"html.parser\")\n",
    "        data = [\"https://books.toscrape.com/catalogue/category\" + link[\"href\"].split(\"..\")[1] for link in data_html.find_all(\"div\", attrs={\"class\":\"side_categories\"})[0].find_all(\"a\")[1:]]\n",
    "        return data\n",
    "    return None\n",
    "    "
   ]
  },
  {
   "cell_type": "code",
   "execution_count": 46,
   "id": "37ca240b",
   "metadata": {},
   "outputs": [
    {
     "data": {
      "text/plain": [
       "['https://books.toscrape.com/catalogue/category/books/travel_2/index.html',\n",
       " 'https://books.toscrape.com/catalogue/category/books/mystery_3/index.html']"
      ]
     },
     "metadata": {},
     "output_type": "display_data"
    }
   ],
   "source": [
    "if __name__ == \"__main__\":\n",
    "    url = \"https://books.toscrape.com/catalogue/category/books_1/index.html\"\n",
    "    data = get_book_link_themes(url)[:2]\n",
    "    display(data)"
   ]
  },
  {
   "cell_type": "markdown",
   "id": "ba4e9bba",
   "metadata": {},
   "source": [
    "Pour chaque lien, je vais aller recuperer les liens de chaque livre qui me permettront de recupérer la photo de livre, son titre, son titre, la quantité qu'il y a en stock, sa référence (UPC) et sa desciption."
   ]
  },
  {
   "cell_type": "code",
   "execution_count": null,
   "id": "5053a9ef",
   "metadata": {},
   "outputs": [],
   "source": []
  }
 ],
 "metadata": {
  "kernelspec": {
   "display_name": "Python 3",
   "language": "python",
   "name": "python3"
  },
  "language_info": {
   "codemirror_mode": {
    "name": "ipython",
    "version": 3
   },
   "file_extension": ".py",
   "mimetype": "text/x-python",
   "name": "python",
   "nbconvert_exporter": "python",
   "pygments_lexer": "ipython3",
   "version": "3.12.10"
  }
 },
 "nbformat": 4,
 "nbformat_minor": 5
}
