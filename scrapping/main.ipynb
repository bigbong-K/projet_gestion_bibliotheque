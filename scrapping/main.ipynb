{
 "cells": [
  {
   "cell_type": "markdown",
   "id": "223054b5",
   "metadata": {},
   "source": [
    "<h3><b>Importation des librairies</b></h1>"
   ]
  },
  {
   "cell_type": "code",
   "execution_count": 1,
   "id": "38187820",
   "metadata": {},
   "outputs": [],
   "source": [
    "import numpy as np\n",
    "import pandas as pd\n",
    "import requests\n",
    "from bs4 import BeautifulSoup as soup"
   ]
  },
  {
   "cell_type": "code",
   "execution_count": 179,
   "id": "e336cf21",
   "metadata": {},
   "outputs": [
    {
     "data": {
      "text/plain": [
       "200"
      ]
     },
     "execution_count": 179,
     "metadata": {},
     "output_type": "execute_result"
    }
   ],
   "source": [
    "url = \"https://books.toscrape.com/catalogue/category/books_1/index.html\"\n",
    "\n",
    "reponse = requests.get(url=url)\n",
    "\n",
    "reponse.status_code"
   ]
  },
  {
   "cell_type": "code",
   "execution_count": 180,
   "id": "f807dfc0",
   "metadata": {},
   "outputs": [],
   "source": [
    "def get_book_themes(url:str=\"https://books.toscrape.com/catalogue/category/books_1/index.html\"):\n",
    "    reponse = requests.get(url=url)\n",
    "    if reponse.status_code == 200:\n",
    "        data_str = reponse.content\n",
    "        data_html = soup(data_str, \"html.parser\")\n",
    "        data = [theme.get_text().strip() for theme in data_html.find_all(\"div\", attrs={\"class\":\"side_categories\"})[0].find_all(\"li\")[1:]]\n",
    "        \n",
    "        return data\n",
    "    return None\n"
   ]
  },
  {
   "cell_type": "code",
   "execution_count": 181,
   "id": "eb5547b2",
   "metadata": {},
   "outputs": [],
   "source": [
    "def get_book_link_themes(url:str=\"https://books.toscrape.com/catalogue/category/books_1/index.html\"):\n",
    "    reponse = requests.get(url=url)\n",
    "    if reponse.status_code == 200:\n",
    "        data_str = reponse.content\n",
    "        data_html = soup(data_str, \"html.parser\")\n",
    "        data = [\"https://books.toscrape.com/catalogue/category\" + link[\"href\"].split(\"..\")[1] for link in data_html.find_all(\"div\", attrs={\"class\":\"side_categories\"})[0].find_all(\"a\")[1:]]\n",
    "        return data\n",
    "    return None\n",
    "    "
   ]
  },
  {
   "cell_type": "code",
   "execution_count": 182,
   "id": "d12f190d",
   "metadata": {},
   "outputs": [
    {
     "data": {
      "text/html": [
       "<div>\n",
       "<style scoped>\n",
       "    .dataframe tbody tr th:only-of-type {\n",
       "        vertical-align: middle;\n",
       "    }\n",
       "\n",
       "    .dataframe tbody tr th {\n",
       "        vertical-align: top;\n",
       "    }\n",
       "\n",
       "    .dataframe thead th {\n",
       "        text-align: right;\n",
       "    }\n",
       "</style>\n",
       "<table border=\"1\" class=\"dataframe\">\n",
       "  <thead>\n",
       "    <tr style=\"text-align: right;\">\n",
       "      <th></th>\n",
       "      <th>Nom</th>\n",
       "      <th>Lien</th>\n",
       "    </tr>\n",
       "  </thead>\n",
       "  <tbody>\n",
       "    <tr>\n",
       "      <th>0</th>\n",
       "      <td>Travel</td>\n",
       "      <td>https://books.toscrape.com/catalogue/category/...</td>\n",
       "    </tr>\n",
       "    <tr>\n",
       "      <th>1</th>\n",
       "      <td>Mystery</td>\n",
       "      <td>https://books.toscrape.com/catalogue/category/...</td>\n",
       "    </tr>\n",
       "    <tr>\n",
       "      <th>2</th>\n",
       "      <td>Historical Fiction</td>\n",
       "      <td>https://books.toscrape.com/catalogue/category/...</td>\n",
       "    </tr>\n",
       "    <tr>\n",
       "      <th>3</th>\n",
       "      <td>Sequential Art</td>\n",
       "      <td>https://books.toscrape.com/catalogue/category/...</td>\n",
       "    </tr>\n",
       "    <tr>\n",
       "      <th>4</th>\n",
       "      <td>Classics</td>\n",
       "      <td>https://books.toscrape.com/catalogue/category/...</td>\n",
       "    </tr>\n",
       "  </tbody>\n",
       "</table>\n",
       "</div>"
      ],
      "text/plain": [
       "                  Nom                                               Lien\n",
       "0              Travel  https://books.toscrape.com/catalogue/category/...\n",
       "1             Mystery  https://books.toscrape.com/catalogue/category/...\n",
       "2  Historical Fiction  https://books.toscrape.com/catalogue/category/...\n",
       "3      Sequential Art  https://books.toscrape.com/catalogue/category/...\n",
       "4            Classics  https://books.toscrape.com/catalogue/category/..."
      ]
     },
     "execution_count": 182,
     "metadata": {},
     "output_type": "execute_result"
    }
   ],
   "source": [
    "# table categorie\n",
    "themes = get_book_themes()\n",
    "links = get_book_link_themes()\n",
    "\n",
    "df_categorie = pd.DataFrame({\"Nom\":themes, \"Lien\":links})\n",
    "df_categorie.head()"
   ]
  },
  {
   "cell_type": "code",
   "execution_count": 183,
   "id": "11bcd542",
   "metadata": {},
   "outputs": [
    {
     "data": {
      "text/html": [
       "<div>\n",
       "<style scoped>\n",
       "    .dataframe tbody tr th:only-of-type {\n",
       "        vertical-align: middle;\n",
       "    }\n",
       "\n",
       "    .dataframe tbody tr th {\n",
       "        vertical-align: top;\n",
       "    }\n",
       "\n",
       "    .dataframe thead th {\n",
       "        text-align: right;\n",
       "    }\n",
       "</style>\n",
       "<table border=\"1\" class=\"dataframe\">\n",
       "  <thead>\n",
       "    <tr style=\"text-align: right;\">\n",
       "      <th></th>\n",
       "      <th>Id_categorie</th>\n",
       "      <th>Nom</th>\n",
       "      <th>Lien</th>\n",
       "    </tr>\n",
       "  </thead>\n",
       "  <tbody>\n",
       "    <tr>\n",
       "      <th>0</th>\n",
       "      <td>1</td>\n",
       "      <td>Travel</td>\n",
       "      <td>https://books.toscrape.com/catalogue/category/...</td>\n",
       "    </tr>\n",
       "    <tr>\n",
       "      <th>1</th>\n",
       "      <td>2</td>\n",
       "      <td>Mystery</td>\n",
       "      <td>https://books.toscrape.com/catalogue/category/...</td>\n",
       "    </tr>\n",
       "    <tr>\n",
       "      <th>2</th>\n",
       "      <td>3</td>\n",
       "      <td>Historical Fiction</td>\n",
       "      <td>https://books.toscrape.com/catalogue/category/...</td>\n",
       "    </tr>\n",
       "    <tr>\n",
       "      <th>3</th>\n",
       "      <td>4</td>\n",
       "      <td>Sequential Art</td>\n",
       "      <td>https://books.toscrape.com/catalogue/category/...</td>\n",
       "    </tr>\n",
       "    <tr>\n",
       "      <th>4</th>\n",
       "      <td>5</td>\n",
       "      <td>Classics</td>\n",
       "      <td>https://books.toscrape.com/catalogue/category/...</td>\n",
       "    </tr>\n",
       "  </tbody>\n",
       "</table>\n",
       "</div>"
      ],
      "text/plain": [
       "   Id_categorie                 Nom  \\\n",
       "0             1              Travel   \n",
       "1             2             Mystery   \n",
       "2             3  Historical Fiction   \n",
       "3             4      Sequential Art   \n",
       "4             5            Classics   \n",
       "\n",
       "                                                Lien  \n",
       "0  https://books.toscrape.com/catalogue/category/...  \n",
       "1  https://books.toscrape.com/catalogue/category/...  \n",
       "2  https://books.toscrape.com/catalogue/category/...  \n",
       "3  https://books.toscrape.com/catalogue/category/...  \n",
       "4  https://books.toscrape.com/catalogue/category/...  "
      ]
     },
     "execution_count": 183,
     "metadata": {},
     "output_type": "execute_result"
    }
   ],
   "source": [
    "df_categorie = df_categorie.reset_index()\n",
    "df_categorie = df_categorie.rename(columns={\"index\":\"Id_categorie\"})\n",
    "df_categorie[\"Id_categorie\"] = df_categorie[\"Id_categorie\"] + 1\n",
    "df_categorie.head()"
   ]
  },
  {
   "cell_type": "code",
   "execution_count": 199,
   "id": "3a44ad28",
   "metadata": {},
   "outputs": [],
   "source": [
    "df_categorie.to_csv(\"../data/categories.csv\", sep=\",\", index=False)"
   ]
  },
  {
   "cell_type": "code",
   "execution_count": 185,
   "id": "37ca240b",
   "metadata": {},
   "outputs": [
    {
     "data": {
      "text/plain": [
       "['https://books.toscrape.com/catalogue/category/books/travel_2/index.html',\n",
       " 'https://books.toscrape.com/catalogue/category/books/mystery_3/index.html']"
      ]
     },
     "metadata": {},
     "output_type": "display_data"
    }
   ],
   "source": [
    "if __name__ == \"__main__\":\n",
    "    url = \"https://books.toscrape.com/catalogue/category/books_1/index.html\"\n",
    "    data = get_book_link_themes(url)[:2]\n",
    "    display(data)"
   ]
  },
  {
   "cell_type": "markdown",
   "id": "ba4e9bba",
   "metadata": {},
   "source": [
    "Pour chaque lien, je vais aller recuperer les liens de chaque livre qui me permettront de recupérer la photo de livre, son titre, son titre, la quantité qu'il y a en stock, sa référence (UPC) et sa desciption."
   ]
  },
  {
   "cell_type": "markdown",
   "id": "514be85c",
   "metadata": {},
   "source": [
    "<h3><b>Table livre</b></h3>"
   ]
  },
  {
   "cell_type": "code",
   "execution_count": 186,
   "id": "5053a9ef",
   "metadata": {},
   "outputs": [
    {
     "data": {
      "text/plain": [
       "['https://books.toscrape.com/catalogue/category/books/travel_2/index.html',\n",
       " 'https://books.toscrape.com/catalogue/category/books/mystery_3/index.html']"
      ]
     },
     "execution_count": 186,
     "metadata": {},
     "output_type": "execute_result"
    }
   ],
   "source": [
    "links = get_book_link_themes()\n",
    "links[:2]"
   ]
  },
  {
   "cell_type": "code",
   "execution_count": 187,
   "id": "7251e732",
   "metadata": {},
   "outputs": [
    {
     "data": {
      "text/plain": [
       "200"
      ]
     },
     "execution_count": 187,
     "metadata": {},
     "output_type": "execute_result"
    }
   ],
   "source": [
    "url = links[0]\n",
    "\n",
    "reponse = requests.get(url=url)\n",
    "reponse.status_code"
   ]
  },
  {
   "cell_type": "code",
   "execution_count": 188,
   "id": "e757e9f0",
   "metadata": {},
   "outputs": [
    {
     "data": {
      "text/plain": [
       "['https://books.toscrape.com/catalogue/category/books/travel_2/index.html',\n",
       " 'https://books.toscrape.com/catalogue/category/books/mystery_3/index.html',\n",
       " 'https://books.toscrape.com/catalogue/category/books/historical-fiction_4/index.html',\n",
       " 'https://books.toscrape.com/catalogue/category/books/sequential-art_5/index.html',\n",
       " 'https://books.toscrape.com/catalogue/category/books/classics_6/index.html']"
      ]
     },
     "execution_count": 188,
     "metadata": {},
     "output_type": "execute_result"
    }
   ],
   "source": [
    "get_book_link_themes()[:5]"
   ]
  },
  {
   "cell_type": "code",
   "execution_count": 189,
   "id": "8bad4bfa",
   "metadata": {},
   "outputs": [
    {
     "data": {
      "text/plain": [
       "['https://books.toscrape.com/catalogue/its-only-the-himalayas_981/index.html',\n",
       " 'https://books.toscrape.com/catalogue/full-moon-over-noahs-ark-an-odyssey-to-mount-ararat-and-beyond_811/index.html',\n",
       " 'https://books.toscrape.com/catalogue/see-america-a-celebration-of-our-national-parks-treasured-sites_732/index.html',\n",
       " 'https://books.toscrape.com/catalogue/vagabonding-an-uncommon-guide-to-the-art-of-long-term-world-travel_552/index.html',\n",
       " 'https://books.toscrape.com/catalogue/under-the-tuscan-sun_504/index.html']"
      ]
     },
     "execution_count": 189,
     "metadata": {},
     "output_type": "execute_result"
    }
   ],
   "source": [
    "# On recupere tous les liens des livres pour un thème données\n",
    "def get_links_books_for_one_theme(url: str):\n",
    "    reponse = requests.get(url)\n",
    "    if reponse.status_code == 200:\n",
    "        data_str = reponse.content\n",
    "        data_html = soup(data_str, \"html.parser\")\n",
    "        links = data_html.find_all(\"div\", attrs={\"class\":\"image_container\"})\n",
    "        data = [link.find(\"a\")[\"href\"].split(\"../../\")[1] for link in links]\n",
    "        data_clean = [\"https://books.toscrape.com/catalogue/\" + x.split(\"../\")[1] for x in data]\n",
    "        return data_clean\n",
    "                \n",
    "\n",
    "# On recupère tous les liens pour tous les thèmes\n",
    "def get_links_books_for_all_theme():\n",
    "    links_themes = get_book_link_themes()\n",
    "    data = []\n",
    "    for link in links_themes:\n",
    "        links = get_links_books_for_one_theme(url=link)\n",
    "        data += links\n",
    "    return data\n",
    "\n",
    "links_book = get_links_books_for_all_theme()\n",
    "links_book[:5]"
   ]
  },
  {
   "cell_type": "markdown",
   "id": "9f478978",
   "metadata": {},
   "source": [
    "Pour chaque lien, nous allons maintenant recupérer les informations pour notre table book"
   ]
  },
  {
   "cell_type": "code",
   "execution_count": 190,
   "id": "749d474f",
   "metadata": {},
   "outputs": [],
   "source": [
    "def get_infos_one_book(url:str=links_book[21]):\n",
    "    reponse = requests.get(url)\n",
    "    if reponse.status_code == 200:\n",
    "        data_str = reponse.content\n",
    "        data_html = soup(data_str, \"html.parser\")\n",
    "        # recupération de la catégorie\n",
    "        categorie = data_html.find(\"ul\", attrs={\"class\":\"breadcrumb\"}).find(\"a\").find_next(\"a\").find_next(\"a\").get_text()\n",
    "        # recupération du titre\n",
    "        titre = data_html.find(\"div\", attrs={\"class\":\"col-sm-6 product_main\"}).find(\"h1\").get_text()\n",
    "        # recupération du prix\n",
    "        prix = data_html.find(\"div\", attrs={\"class\":\"col-sm-6 product_main\"}).find(\"p\").get_text()[1:]\n",
    "        # recupération du nombre d'exemplaires disponibles\n",
    "        disponibilite = data_html.find(\"div\", attrs={\"class\":\"col-sm-6 product_main\"}).find(\"p\").find_next(\"p\").get_text().strip().split(\"(\")[1]\n",
    "        nb_livre_disponible = disponibilite.split(\" \")[0]\n",
    "        # recupération du nombre d'étoiles\n",
    "        try:\n",
    "            note = data_html.find(\"p\", attrs={\"class\":\"instock availability\"}).find_next(\"p\").attrs[\"class\"][1]\n",
    "        except:\n",
    "            note = data_html.find(\"div\", attrs={\"class\":\"alert alert-warning\"}).find_previous(\"p\")[\"class\"][1]\n",
    "        \n",
    "        STR_TO_NUMBER = {\"Zero\":0, \"One\":1, \"Two\":2, \"Three\":3, \"Four\":4, \"Five\":5}\n",
    "        # recupération de l'url de l'image\n",
    "        image_url = \"https://books.toscrape.com/\" + data_html.find(\"div\", attrs={\"class\":\"item active\"}).find(\"img\")[\"src\"].split(\"../../\")[1]\n",
    "        # recupération de la description\n",
    "        try:\n",
    "            description = data_html.find(\"div\", attrs={\"id\":\"product_description\"}).find_next(\"p\").get_text()\n",
    "        except:\n",
    "            description = None\n",
    "        # recupération du code UPC\n",
    "        upc = data_html.find(\"table\", attrs={\"class\":\"table table-striped\"}).find(\"td\").get_text()\n",
    "        \n",
    "        data = {\"Nom\": titre, \"Categorie\":categorie, \"Prix\":prix, \"Disponibilite\":nb_livre_disponible, \n",
    "                \"Note\":STR_TO_NUMBER[note], \"Code_UPC\":upc, \"Description\":description, \"Image_url\":image_url, \"Lien\":url}\n",
    "        \n",
    "    return data\n",
    "\n",
    "\n",
    "def get_infos_all_books():\n",
    "    datas = []\n",
    "    links_book = get_links_books_for_all_theme()\n",
    "    for link in links_book:\n",
    "        df = get_infos_one_book(link)\n",
    "        datas.append(df)\n",
    "        \n",
    "    return datas\n",
    "    "
   ]
  },
  {
   "cell_type": "code",
   "execution_count": 200,
   "id": "e907c96c",
   "metadata": {},
   "outputs": [
    {
     "data": {
      "text/html": [
       "<div>\n",
       "<style scoped>\n",
       "    .dataframe tbody tr th:only-of-type {\n",
       "        vertical-align: middle;\n",
       "    }\n",
       "\n",
       "    .dataframe tbody tr th {\n",
       "        vertical-align: top;\n",
       "    }\n",
       "\n",
       "    .dataframe thead th {\n",
       "        text-align: right;\n",
       "    }\n",
       "</style>\n",
       "<table border=\"1\" class=\"dataframe\">\n",
       "  <thead>\n",
       "    <tr style=\"text-align: right;\">\n",
       "      <th></th>\n",
       "      <th>Nom</th>\n",
       "      <th>Categorie</th>\n",
       "      <th>Prix</th>\n",
       "      <th>Disponibilite</th>\n",
       "      <th>Note</th>\n",
       "      <th>Code_UPC</th>\n",
       "      <th>Description</th>\n",
       "      <th>Image_url</th>\n",
       "      <th>Lien</th>\n",
       "    </tr>\n",
       "  </thead>\n",
       "  <tbody>\n",
       "    <tr>\n",
       "      <th>0</th>\n",
       "      <td>It's Only the Himalayas</td>\n",
       "      <td>Travel</td>\n",
       "      <td>45.17</td>\n",
       "      <td>19</td>\n",
       "      <td>2</td>\n",
       "      <td>a22124811bfa8350</td>\n",
       "      <td>“Wherever you go, whatever you do, just . . . ...</td>\n",
       "      <td>https://books.toscrape.com/media/cache/6d/41/6...</td>\n",
       "      <td>https://books.toscrape.com/catalogue/its-only-...</td>\n",
       "    </tr>\n",
       "    <tr>\n",
       "      <th>1</th>\n",
       "      <td>Full Moon over Noah’s Ark: An Odyssey to Mount...</td>\n",
       "      <td>Travel</td>\n",
       "      <td>49.43</td>\n",
       "      <td>15</td>\n",
       "      <td>4</td>\n",
       "      <td>ce60436f52c5ee68</td>\n",
       "      <td>Acclaimed travel writer Rick Antonson sets his...</td>\n",
       "      <td>https://books.toscrape.com/media/cache/fe/8a/f...</td>\n",
       "      <td>https://books.toscrape.com/catalogue/full-moon...</td>\n",
       "    </tr>\n",
       "  </tbody>\n",
       "</table>\n",
       "</div>"
      ],
      "text/plain": [
       "                                                 Nom Categorie   Prix  \\\n",
       "0                            It's Only the Himalayas    Travel  45.17   \n",
       "1  Full Moon over Noah’s Ark: An Odyssey to Mount...    Travel  49.43   \n",
       "\n",
       "  Disponibilite  Note          Code_UPC  \\\n",
       "0            19     2  a22124811bfa8350   \n",
       "1            15     4  ce60436f52c5ee68   \n",
       "\n",
       "                                         Description  \\\n",
       "0  “Wherever you go, whatever you do, just . . . ...   \n",
       "1  Acclaimed travel writer Rick Antonson sets his...   \n",
       "\n",
       "                                           Image_url  \\\n",
       "0  https://books.toscrape.com/media/cache/6d/41/6...   \n",
       "1  https://books.toscrape.com/media/cache/fe/8a/f...   \n",
       "\n",
       "                                                Lien  \n",
       "0  https://books.toscrape.com/catalogue/its-only-...  \n",
       "1  https://books.toscrape.com/catalogue/full-moon...  "
      ]
     },
     "execution_count": 200,
     "metadata": {},
     "output_type": "execute_result"
    }
   ],
   "source": [
    "# get_infos_one_book(url=\"https://books.toscrape.com/catalogue/alice-in-wonderland-alices-adventures-in-wonderland-1_5/index.html\")\n",
    "\n",
    "df = get_infos_all_books()\n",
    "df_book = pd.DataFrame(df)\n",
    "df_book.head(2)"
   ]
  },
  {
   "cell_type": "code",
   "execution_count": 201,
   "id": "63cacbf2",
   "metadata": {},
   "outputs": [
    {
     "data": {
      "text/html": [
       "<div>\n",
       "<style scoped>\n",
       "    .dataframe tbody tr th:only-of-type {\n",
       "        vertical-align: middle;\n",
       "    }\n",
       "\n",
       "    .dataframe tbody tr th {\n",
       "        vertical-align: top;\n",
       "    }\n",
       "\n",
       "    .dataframe thead th {\n",
       "        text-align: right;\n",
       "    }\n",
       "</style>\n",
       "<table border=\"1\" class=\"dataframe\">\n",
       "  <thead>\n",
       "    <tr style=\"text-align: right;\">\n",
       "      <th></th>\n",
       "      <th>Id_book</th>\n",
       "      <th>Nom</th>\n",
       "      <th>Categorie</th>\n",
       "      <th>Prix</th>\n",
       "      <th>Disponibilite</th>\n",
       "      <th>Note</th>\n",
       "      <th>Code_UPC</th>\n",
       "      <th>Description</th>\n",
       "      <th>Image_url</th>\n",
       "      <th>Lien</th>\n",
       "    </tr>\n",
       "  </thead>\n",
       "  <tbody>\n",
       "    <tr>\n",
       "      <th>0</th>\n",
       "      <td>1</td>\n",
       "      <td>It's Only the Himalayas</td>\n",
       "      <td>Travel</td>\n",
       "      <td>45.17</td>\n",
       "      <td>19</td>\n",
       "      <td>2</td>\n",
       "      <td>a22124811bfa8350</td>\n",
       "      <td>“Wherever you go, whatever you do, just . . . ...</td>\n",
       "      <td>https://books.toscrape.com/media/cache/6d/41/6...</td>\n",
       "      <td>https://books.toscrape.com/catalogue/its-only-...</td>\n",
       "    </tr>\n",
       "    <tr>\n",
       "      <th>1</th>\n",
       "      <td>2</td>\n",
       "      <td>Full Moon over Noah’s Ark: An Odyssey to Mount...</td>\n",
       "      <td>Travel</td>\n",
       "      <td>49.43</td>\n",
       "      <td>15</td>\n",
       "      <td>4</td>\n",
       "      <td>ce60436f52c5ee68</td>\n",
       "      <td>Acclaimed travel writer Rick Antonson sets his...</td>\n",
       "      <td>https://books.toscrape.com/media/cache/fe/8a/f...</td>\n",
       "      <td>https://books.toscrape.com/catalogue/full-moon...</td>\n",
       "    </tr>\n",
       "    <tr>\n",
       "      <th>2</th>\n",
       "      <td>3</td>\n",
       "      <td>See America: A Celebration of Our National Par...</td>\n",
       "      <td>Travel</td>\n",
       "      <td>48.87</td>\n",
       "      <td>14</td>\n",
       "      <td>3</td>\n",
       "      <td>f9705c362f070608</td>\n",
       "      <td>To coincide with the 2016 centennial anniversa...</td>\n",
       "      <td>https://books.toscrape.com/media/cache/c7/1a/c...</td>\n",
       "      <td>https://books.toscrape.com/catalogue/see-ameri...</td>\n",
       "    </tr>\n",
       "    <tr>\n",
       "      <th>3</th>\n",
       "      <td>4</td>\n",
       "      <td>Vagabonding: An Uncommon Guide to the Art of L...</td>\n",
       "      <td>Travel</td>\n",
       "      <td>36.94</td>\n",
       "      <td>8</td>\n",
       "      <td>2</td>\n",
       "      <td>1809259a5a5f1d8d</td>\n",
       "      <td>With a new foreword by Tim Ferriss •There’s no...</td>\n",
       "      <td>https://books.toscrape.com/media/cache/ca/30/c...</td>\n",
       "      <td>https://books.toscrape.com/catalogue/vagabondi...</td>\n",
       "    </tr>\n",
       "    <tr>\n",
       "      <th>4</th>\n",
       "      <td>5</td>\n",
       "      <td>Under the Tuscan Sun</td>\n",
       "      <td>Travel</td>\n",
       "      <td>37.33</td>\n",
       "      <td>7</td>\n",
       "      <td>3</td>\n",
       "      <td>a94350ee74deaa07</td>\n",
       "      <td>A CLASSIC FROM THE BESTSELLING AUTHOR OF UNDER...</td>\n",
       "      <td>https://books.toscrape.com/media/cache/45/21/4...</td>\n",
       "      <td>https://books.toscrape.com/catalogue/under-the...</td>\n",
       "    </tr>\n",
       "  </tbody>\n",
       "</table>\n",
       "</div>"
      ],
      "text/plain": [
       "   Id_book                                                Nom Categorie  \\\n",
       "0        1                            It's Only the Himalayas    Travel   \n",
       "1        2  Full Moon over Noah’s Ark: An Odyssey to Mount...    Travel   \n",
       "2        3  See America: A Celebration of Our National Par...    Travel   \n",
       "3        4  Vagabonding: An Uncommon Guide to the Art of L...    Travel   \n",
       "4        5                               Under the Tuscan Sun    Travel   \n",
       "\n",
       "    Prix Disponibilite  Note          Code_UPC  \\\n",
       "0  45.17            19     2  a22124811bfa8350   \n",
       "1  49.43            15     4  ce60436f52c5ee68   \n",
       "2  48.87            14     3  f9705c362f070608   \n",
       "3  36.94             8     2  1809259a5a5f1d8d   \n",
       "4  37.33             7     3  a94350ee74deaa07   \n",
       "\n",
       "                                         Description  \\\n",
       "0  “Wherever you go, whatever you do, just . . . ...   \n",
       "1  Acclaimed travel writer Rick Antonson sets his...   \n",
       "2  To coincide with the 2016 centennial anniversa...   \n",
       "3  With a new foreword by Tim Ferriss •There’s no...   \n",
       "4  A CLASSIC FROM THE BESTSELLING AUTHOR OF UNDER...   \n",
       "\n",
       "                                           Image_url  \\\n",
       "0  https://books.toscrape.com/media/cache/6d/41/6...   \n",
       "1  https://books.toscrape.com/media/cache/fe/8a/f...   \n",
       "2  https://books.toscrape.com/media/cache/c7/1a/c...   \n",
       "3  https://books.toscrape.com/media/cache/ca/30/c...   \n",
       "4  https://books.toscrape.com/media/cache/45/21/4...   \n",
       "\n",
       "                                                Lien  \n",
       "0  https://books.toscrape.com/catalogue/its-only-...  \n",
       "1  https://books.toscrape.com/catalogue/full-moon...  \n",
       "2  https://books.toscrape.com/catalogue/see-ameri...  \n",
       "3  https://books.toscrape.com/catalogue/vagabondi...  \n",
       "4  https://books.toscrape.com/catalogue/under-the...  "
      ]
     },
     "execution_count": 201,
     "metadata": {},
     "output_type": "execute_result"
    }
   ],
   "source": [
    "df_book = df_book.reset_index()\n",
    "df_book = df_book.rename(columns={\"index\":\"Id_book\"})\n",
    "df_book[\"Id_book\"] = df_book[\"Id_book\"] + 1\n",
    "\n",
    "df_book.head()"
   ]
  },
  {
   "cell_type": "code",
   "execution_count": 202,
   "id": "e37de40d",
   "metadata": {},
   "outputs": [
    {
     "data": {
      "text/html": [
       "<div>\n",
       "<style scoped>\n",
       "    .dataframe tbody tr th:only-of-type {\n",
       "        vertical-align: middle;\n",
       "    }\n",
       "\n",
       "    .dataframe tbody tr th {\n",
       "        vertical-align: top;\n",
       "    }\n",
       "\n",
       "    .dataframe thead th {\n",
       "        text-align: right;\n",
       "    }\n",
       "</style>\n",
       "<table border=\"1\" class=\"dataframe\">\n",
       "  <thead>\n",
       "    <tr style=\"text-align: right;\">\n",
       "      <th></th>\n",
       "      <th>Id_book</th>\n",
       "      <th>Nom</th>\n",
       "      <th>Categorie</th>\n",
       "      <th>Prix</th>\n",
       "      <th>Disponibilite</th>\n",
       "      <th>Note</th>\n",
       "      <th>Code_UPC</th>\n",
       "      <th>Description</th>\n",
       "      <th>Image_url</th>\n",
       "      <th>Lien</th>\n",
       "    </tr>\n",
       "  </thead>\n",
       "  <tbody>\n",
       "    <tr>\n",
       "      <th>0</th>\n",
       "      <td>1</td>\n",
       "      <td>It's Only the Himalayas</td>\n",
       "      <td>Travel</td>\n",
       "      <td>45.17</td>\n",
       "      <td>19</td>\n",
       "      <td>2</td>\n",
       "      <td>a22124811bfa8350</td>\n",
       "      <td>“Wherever you go, whatever you do, just . . . ...</td>\n",
       "      <td>https://books.toscrape.com/media/cache/6d/41/6...</td>\n",
       "      <td>https://books.toscrape.com/catalogue/its-only-...</td>\n",
       "    </tr>\n",
       "    <tr>\n",
       "      <th>1</th>\n",
       "      <td>2</td>\n",
       "      <td>Full Moon over Noah’s Ark: An Odyssey to Mount...</td>\n",
       "      <td>Travel</td>\n",
       "      <td>49.43</td>\n",
       "      <td>15</td>\n",
       "      <td>4</td>\n",
       "      <td>ce60436f52c5ee68</td>\n",
       "      <td>Acclaimed travel writer Rick Antonson sets his...</td>\n",
       "      <td>https://books.toscrape.com/media/cache/fe/8a/f...</td>\n",
       "      <td>https://books.toscrape.com/catalogue/full-moon...</td>\n",
       "    </tr>\n",
       "  </tbody>\n",
       "</table>\n",
       "</div>"
      ],
      "text/plain": [
       "   Id_book                                                Nom Categorie  \\\n",
       "0        1                            It's Only the Himalayas    Travel   \n",
       "1        2  Full Moon over Noah’s Ark: An Odyssey to Mount...    Travel   \n",
       "\n",
       "    Prix Disponibilite  Note          Code_UPC  \\\n",
       "0  45.17            19     2  a22124811bfa8350   \n",
       "1  49.43            15     4  ce60436f52c5ee68   \n",
       "\n",
       "                                         Description  \\\n",
       "0  “Wherever you go, whatever you do, just . . . ...   \n",
       "1  Acclaimed travel writer Rick Antonson sets his...   \n",
       "\n",
       "                                           Image_url  \\\n",
       "0  https://books.toscrape.com/media/cache/6d/41/6...   \n",
       "1  https://books.toscrape.com/media/cache/fe/8a/f...   \n",
       "\n",
       "                                                Lien  \n",
       "0  https://books.toscrape.com/catalogue/its-only-...  \n",
       "1  https://books.toscrape.com/catalogue/full-moon...  "
      ]
     },
     "metadata": {},
     "output_type": "display_data"
    },
    {
     "data": {
      "text/html": [
       "<div>\n",
       "<style scoped>\n",
       "    .dataframe tbody tr th:only-of-type {\n",
       "        vertical-align: middle;\n",
       "    }\n",
       "\n",
       "    .dataframe tbody tr th {\n",
       "        vertical-align: top;\n",
       "    }\n",
       "\n",
       "    .dataframe thead th {\n",
       "        text-align: right;\n",
       "    }\n",
       "</style>\n",
       "<table border=\"1\" class=\"dataframe\">\n",
       "  <thead>\n",
       "    <tr style=\"text-align: right;\">\n",
       "      <th></th>\n",
       "      <th>Id_categorie</th>\n",
       "      <th>Nom</th>\n",
       "      <th>Lien</th>\n",
       "    </tr>\n",
       "  </thead>\n",
       "  <tbody>\n",
       "    <tr>\n",
       "      <th>0</th>\n",
       "      <td>1</td>\n",
       "      <td>Travel</td>\n",
       "      <td>https://books.toscrape.com/catalogue/category/...</td>\n",
       "    </tr>\n",
       "    <tr>\n",
       "      <th>1</th>\n",
       "      <td>2</td>\n",
       "      <td>Mystery</td>\n",
       "      <td>https://books.toscrape.com/catalogue/category/...</td>\n",
       "    </tr>\n",
       "  </tbody>\n",
       "</table>\n",
       "</div>"
      ],
      "text/plain": [
       "   Id_categorie      Nom                                               Lien\n",
       "0             1   Travel  https://books.toscrape.com/catalogue/category/...\n",
       "1             2  Mystery  https://books.toscrape.com/catalogue/category/..."
      ]
     },
     "metadata": {},
     "output_type": "display_data"
    }
   ],
   "source": [
    "display(df_book.head(2))\n",
    "display(df_categorie.head(2))"
   ]
  },
  {
   "cell_type": "code",
   "execution_count": 203,
   "id": "dc96d703",
   "metadata": {},
   "outputs": [
    {
     "data": {
      "text/html": [
       "<div>\n",
       "<style scoped>\n",
       "    .dataframe tbody tr th:only-of-type {\n",
       "        vertical-align: middle;\n",
       "    }\n",
       "\n",
       "    .dataframe tbody tr th {\n",
       "        vertical-align: top;\n",
       "    }\n",
       "\n",
       "    .dataframe thead th {\n",
       "        text-align: right;\n",
       "    }\n",
       "</style>\n",
       "<table border=\"1\" class=\"dataframe\">\n",
       "  <thead>\n",
       "    <tr style=\"text-align: right;\">\n",
       "      <th></th>\n",
       "      <th>Id_book</th>\n",
       "      <th>Nom_x</th>\n",
       "      <th>Categorie</th>\n",
       "      <th>Prix</th>\n",
       "      <th>Disponibilite</th>\n",
       "      <th>Note</th>\n",
       "      <th>Code_UPC</th>\n",
       "      <th>Description</th>\n",
       "      <th>Image_url</th>\n",
       "      <th>Lien</th>\n",
       "      <th>Nom_y</th>\n",
       "      <th>Id_categorie</th>\n",
       "    </tr>\n",
       "  </thead>\n",
       "  <tbody>\n",
       "    <tr>\n",
       "      <th>0</th>\n",
       "      <td>1</td>\n",
       "      <td>It's Only the Himalayas</td>\n",
       "      <td>Travel</td>\n",
       "      <td>45.17</td>\n",
       "      <td>19</td>\n",
       "      <td>2</td>\n",
       "      <td>a22124811bfa8350</td>\n",
       "      <td>“Wherever you go, whatever you do, just . . . ...</td>\n",
       "      <td>https://books.toscrape.com/media/cache/6d/41/6...</td>\n",
       "      <td>https://books.toscrape.com/catalogue/its-only-...</td>\n",
       "      <td>Travel</td>\n",
       "      <td>1</td>\n",
       "    </tr>\n",
       "    <tr>\n",
       "      <th>1</th>\n",
       "      <td>2</td>\n",
       "      <td>Full Moon over Noah’s Ark: An Odyssey to Mount...</td>\n",
       "      <td>Travel</td>\n",
       "      <td>49.43</td>\n",
       "      <td>15</td>\n",
       "      <td>4</td>\n",
       "      <td>ce60436f52c5ee68</td>\n",
       "      <td>Acclaimed travel writer Rick Antonson sets his...</td>\n",
       "      <td>https://books.toscrape.com/media/cache/fe/8a/f...</td>\n",
       "      <td>https://books.toscrape.com/catalogue/full-moon...</td>\n",
       "      <td>Travel</td>\n",
       "      <td>1</td>\n",
       "    </tr>\n",
       "  </tbody>\n",
       "</table>\n",
       "</div>"
      ],
      "text/plain": [
       "   Id_book                                              Nom_x Categorie  \\\n",
       "0        1                            It's Only the Himalayas    Travel   \n",
       "1        2  Full Moon over Noah’s Ark: An Odyssey to Mount...    Travel   \n",
       "\n",
       "    Prix Disponibilite  Note          Code_UPC  \\\n",
       "0  45.17            19     2  a22124811bfa8350   \n",
       "1  49.43            15     4  ce60436f52c5ee68   \n",
       "\n",
       "                                         Description  \\\n",
       "0  “Wherever you go, whatever you do, just . . . ...   \n",
       "1  Acclaimed travel writer Rick Antonson sets his...   \n",
       "\n",
       "                                           Image_url  \\\n",
       "0  https://books.toscrape.com/media/cache/6d/41/6...   \n",
       "1  https://books.toscrape.com/media/cache/fe/8a/f...   \n",
       "\n",
       "                                                Lien   Nom_y  Id_categorie  \n",
       "0  https://books.toscrape.com/catalogue/its-only-...  Travel             1  \n",
       "1  https://books.toscrape.com/catalogue/full-moon...  Travel             1  "
      ]
     },
     "execution_count": 203,
     "metadata": {},
     "output_type": "execute_result"
    }
   ],
   "source": [
    "df_books = pd.merge(df_book, df_categorie[[\"Nom\", \"Id_categorie\"]], how=\"left\", left_on=\"Categorie\", right_on=\"Nom\")\n",
    "df_books.head(2)"
   ]
  },
  {
   "cell_type": "code",
   "execution_count": 204,
   "id": "e840028b",
   "metadata": {},
   "outputs": [
    {
     "data": {
      "text/html": [
       "<div>\n",
       "<style scoped>\n",
       "    .dataframe tbody tr th:only-of-type {\n",
       "        vertical-align: middle;\n",
       "    }\n",
       "\n",
       "    .dataframe tbody tr th {\n",
       "        vertical-align: top;\n",
       "    }\n",
       "\n",
       "    .dataframe thead th {\n",
       "        text-align: right;\n",
       "    }\n",
       "</style>\n",
       "<table border=\"1\" class=\"dataframe\">\n",
       "  <thead>\n",
       "    <tr style=\"text-align: right;\">\n",
       "      <th></th>\n",
       "      <th>Id_book</th>\n",
       "      <th>Nom</th>\n",
       "      <th>Prix</th>\n",
       "      <th>Disponibilite</th>\n",
       "      <th>Note</th>\n",
       "      <th>Code_UPC</th>\n",
       "      <th>Description</th>\n",
       "      <th>Image_url</th>\n",
       "      <th>Lien</th>\n",
       "      <th>Id_categorie</th>\n",
       "    </tr>\n",
       "  </thead>\n",
       "  <tbody>\n",
       "    <tr>\n",
       "      <th>0</th>\n",
       "      <td>1</td>\n",
       "      <td>It's Only the Himalayas</td>\n",
       "      <td>45.17</td>\n",
       "      <td>19</td>\n",
       "      <td>2</td>\n",
       "      <td>a22124811bfa8350</td>\n",
       "      <td>“Wherever you go, whatever you do, just . . . ...</td>\n",
       "      <td>https://books.toscrape.com/media/cache/6d/41/6...</td>\n",
       "      <td>https://books.toscrape.com/catalogue/its-only-...</td>\n",
       "      <td>1</td>\n",
       "    </tr>\n",
       "    <tr>\n",
       "      <th>1</th>\n",
       "      <td>2</td>\n",
       "      <td>Full Moon over Noah’s Ark: An Odyssey to Mount...</td>\n",
       "      <td>49.43</td>\n",
       "      <td>15</td>\n",
       "      <td>4</td>\n",
       "      <td>ce60436f52c5ee68</td>\n",
       "      <td>Acclaimed travel writer Rick Antonson sets his...</td>\n",
       "      <td>https://books.toscrape.com/media/cache/fe/8a/f...</td>\n",
       "      <td>https://books.toscrape.com/catalogue/full-moon...</td>\n",
       "      <td>1</td>\n",
       "    </tr>\n",
       "  </tbody>\n",
       "</table>\n",
       "</div>"
      ],
      "text/plain": [
       "   Id_book                                                Nom   Prix  \\\n",
       "0        1                            It's Only the Himalayas  45.17   \n",
       "1        2  Full Moon over Noah’s Ark: An Odyssey to Mount...  49.43   \n",
       "\n",
       "  Disponibilite  Note          Code_UPC  \\\n",
       "0            19     2  a22124811bfa8350   \n",
       "1            15     4  ce60436f52c5ee68   \n",
       "\n",
       "                                         Description  \\\n",
       "0  “Wherever you go, whatever you do, just . . . ...   \n",
       "1  Acclaimed travel writer Rick Antonson sets his...   \n",
       "\n",
       "                                           Image_url  \\\n",
       "0  https://books.toscrape.com/media/cache/6d/41/6...   \n",
       "1  https://books.toscrape.com/media/cache/fe/8a/f...   \n",
       "\n",
       "                                                Lien  Id_categorie  \n",
       "0  https://books.toscrape.com/catalogue/its-only-...             1  \n",
       "1  https://books.toscrape.com/catalogue/full-moon...             1  "
      ]
     },
     "execution_count": 204,
     "metadata": {},
     "output_type": "execute_result"
    }
   ],
   "source": [
    "df_books = df_books.drop(columns=[\"Nom_y\"])\n",
    "df_books = df_books.rename(columns={\"Nom_x\":\"Nom\"})\n",
    "df_books = df_books.drop(columns=[\"Categorie\"])\n",
    "df_books.head(2)"
   ]
  },
  {
   "cell_type": "code",
   "execution_count": 205,
   "id": "61a67b49",
   "metadata": {},
   "outputs": [],
   "source": [
    "df_books.to_csv(\"../data/books.csv\", sep=\",\", index=False)"
   ]
  }
 ],
 "metadata": {
  "kernelspec": {
   "display_name": "Python 3",
   "language": "python",
   "name": "python3"
  },
  "language_info": {
   "codemirror_mode": {
    "name": "ipython",
    "version": 3
   },
   "file_extension": ".py",
   "mimetype": "text/x-python",
   "name": "python",
   "nbconvert_exporter": "python",
   "pygments_lexer": "ipython3",
   "version": "3.12.10"
  }
 },
 "nbformat": 4,
 "nbformat_minor": 5
}
